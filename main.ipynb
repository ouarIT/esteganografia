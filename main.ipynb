{
 "cells": [
  {
   "cell_type": "code",
   "execution_count": 1,
   "metadata": {},
   "outputs": [],
   "source": [
    "import arnold_cat_map as acm\n",
    "import s_boxes\n",
    "from map_sbox import mapeo\n",
    "from formateo import agregar_info\n",
    "from PIL.Image import open as load_pic\n",
    "from incrustacion import incrustar_imagen as ii\n",
    "from datetime import datetime\n",
    "import separacion as sep"
   ]
  },
  {
   "cell_type": "code",
   "execution_count": 2,
   "metadata": {},
   "outputs": [],
   "source": [
    "path = 'C:/Users/ouarit/Documents/esteganografia/2.jpg'\n",
    "\n",
    "imagen_a_ocultar = load_pic('C:/Users/ouarit/Documents/esteganografia/1.jpg')\n",
    "imagen_encubridora = load_pic(path)"
   ]
  },
  {
   "cell_type": "code",
   "execution_count": 3,
   "metadata": {},
   "outputs": [],
   "source": [
    "# si es mayor se hace un resize de la imagen encubridora\n",
    "imagen_encubridora = imagen_encubridora.resize(\n",
    "    (imagen_a_ocultar.width, imagen_a_ocultar.height))"
   ]
  },
  {
   "cell_type": "code",
   "execution_count": 4,
   "metadata": {},
   "outputs": [],
   "source": [
    "diferencia, imagen_menor_correlacion = acm.arnold_cat_map(imagen_a_ocultar)"
   ]
  },
  {
   "cell_type": "code",
   "execution_count": 5,
   "metadata": {},
   "outputs": [],
   "source": [
    "# aqui se agrega la informacion a la imagen\n",
    "imagen_menor_correlacion = agregar_info(imagen_menor_correlacion, diferencia)"
   ]
  },
  {
   "cell_type": "code",
   "execution_count": 6,
   "metadata": {},
   "outputs": [],
   "source": [
    "# aqui se hace el mapeo de la imagen\n",
    "imagen_menor_correlacion = mapeo(imagen_menor_correlacion, s_boxes.rijndael_s_box)"
   ]
  },
  {
   "cell_type": "code",
   "execution_count": 7,
   "metadata": {},
   "outputs": [],
   "source": [
    "# mapeo doble\n",
    "imagen_menor_correlacion = mapeo(imagen_menor_correlacion, s_boxes.aboytes_s_box)\n"
   ]
  },
  {
   "cell_type": "code",
   "execution_count": 8,
   "metadata": {},
   "outputs": [],
   "source": [
    "# incrustacion de la imagen\n",
    "imagen_menor_correlacion = ii(imagen_encubridora, imagen_menor_correlacion)"
   ]
  },
  {
   "cell_type": "code",
   "execution_count": 9,
   "metadata": {},
   "outputs": [],
   "source": [
    "# se obtiene la imagen que cubrimos\n",
    "imagen_obtenida  = sep.separar_imagen(imagen_menor_correlacion)\n",
    "imagen_prueba = imagen_obtenida.copy()"
   ]
  },
  {
   "cell_type": "code",
   "execution_count": 10,
   "metadata": {},
   "outputs": [],
   "source": [
    "# se desmapea\n",
    "imagen_prueba = mapeo(imagen_prueba, s_boxes.aboytes_inversa_s_box)"
   ]
  },
  {
   "cell_type": "code",
   "execution_count": 11,
   "metadata": {},
   "outputs": [
    {
     "name": "stdout",
     "output_type": "stream",
     "text": [
      "pixel 0b1100001\n",
      "pixel 0b10110100\n"
     ]
    }
   ],
   "source": [
    "imagen_prueba = mapeo(imagen_prueba, s_boxes.rijndael_inversa_s_box)\n",
    "sep.obtener_bits(imagen_prueba)"
   ]
  }
 ],
 "metadata": {
  "kernelspec": {
   "display_name": "Python 3",
   "language": "python",
   "name": "python3"
  },
  "language_info": {
   "codemirror_mode": {
    "name": "ipython",
    "version": 3
   },
   "file_extension": ".py",
   "mimetype": "text/x-python",
   "name": "python",
   "nbconvert_exporter": "python",
   "pygments_lexer": "ipython3",
   "version": "3.11.1"
  },
  "orig_nbformat": 4
 },
 "nbformat": 4,
 "nbformat_minor": 2
}
