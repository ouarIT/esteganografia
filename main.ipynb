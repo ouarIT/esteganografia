{
 "cells": [
  {
   "cell_type": "code",
   "execution_count": 13,
   "metadata": {},
   "outputs": [],
   "source": [
    "from arnold_cat_map import arnold_cat_map\n",
    "import s_boxes\n",
    "from map_sbox import mapeo_coordenadas\n",
    "from formateo import agregar_info\n",
    "from PIL.Image import open as load_pic\n",
    "from incrustacion import incrustar_imagen as ii\n",
    "import redimensionador"
   ]
  },
  {
   "cell_type": "code",
   "execution_count": 14,
   "metadata": {},
   "outputs": [],
   "source": [
    "imagen_a_ocultar = load_pic('C:/Users/ouarit/Documents/esteganografia/2.jpg')\n",
    "imagen_encubridora = load_pic('C:/Users/ouarit/Documents/esteganografia/1.jpg')"
   ]
  },
  {
   "cell_type": "code",
   "execution_count": 15,
   "metadata": {},
   "outputs": [],
   "source": [
    "imagen_encubridora, imagen_a_ocultar = redimensionador.redimensionar(imagen_encubridora, imagen_a_ocultar)"
   ]
  },
  {
   "cell_type": "code",
   "execution_count": 16,
   "metadata": {},
   "outputs": [],
   "source": [
    "diferencia, imagen_menor_correlacion = arnold_cat_map(imagen_a_ocultar)"
   ]
  },
  {
   "cell_type": "code",
   "execution_count": 17,
   "metadata": {},
   "outputs": [
    {
     "name": "stdout",
     "output_type": "stream",
     "text": [
      "10010010\n"
     ]
    }
   ],
   "source": [
    "# aqui se agrega la informacion a la imagen\n",
    "imagen_menor_correlacion = agregar_info(imagen_menor_correlacion, diferencia)"
   ]
  },
  {
   "cell_type": "code",
   "execution_count": 18,
   "metadata": {},
   "outputs": [],
   "source": [
    "# aqui se hace el mapeo de la imagen\n",
    "imagen_menor_correlacion = mapeo_coordenadas(imagen_menor_correlacion, s_boxes.rijndael_s_box)\n"
   ]
  },
  {
   "cell_type": "code",
   "execution_count": 19,
   "metadata": {},
   "outputs": [],
   "source": [
    "# incrustacion de la imagen\n",
    "imagen_menor_correlacion = ii(imagen_encubridora, imagen_menor_correlacion)\n",
    "\n",
    "# guardamos la imagen\n",
    "imagen_menor_correlacion.save('C:/Users/ouarit/Documents/esteganografia/imagen_oculta.png')"
   ]
  },
  {
   "cell_type": "code",
   "execution_count": null,
   "metadata": {},
   "outputs": [],
   "source": [
    "print(diferencia)"
   ]
  }
 ],
 "metadata": {
  "kernelspec": {
   "display_name": "Python 3",
   "language": "python",
   "name": "python3"
  },
  "language_info": {
   "codemirror_mode": {
    "name": "ipython",
    "version": 3
   },
   "file_extension": ".py",
   "mimetype": "text/x-python",
   "name": "python",
   "nbconvert_exporter": "python",
   "pygments_lexer": "ipython3",
   "version": "3.11.1"
  },
  "orig_nbformat": 4
 },
 "nbformat": 4,
 "nbformat_minor": 2
}
