{
 "cells": [
  {
   "cell_type": "code",
   "execution_count": 14,
   "metadata": {},
   "outputs": [],
   "source": [
    "from arnold_cat_map import arnold_cat_map as acm\n",
    "import s_boxes\n",
    "from map_sbox import mapeo as m\n",
    "from formateo import incrustacion as inc\n",
    "from PIL.Image import open as load_pic\n",
    "from incrustacion import incrustar_imagen as ii\n",
    "from datetime import datetime\n",
    "import separacion as sep\n",
    "\n",
    "\n",
    "\n"
   ]
  },
  {
   "cell_type": "code",
   "execution_count": 15,
   "metadata": {},
   "outputs": [],
   "source": [
    "path = 'C:/Users/ouarit/Documents/esteganografia/2.jpg'\n",
    "\n",
    "imagen_a_ocultar = load_pic('C:/Users/ouarit/Documents/esteganografia/1.jpg')\n",
    "imagen_encubridora = load_pic(path)\n",
    "\n"
   ]
  },
  {
   "cell_type": "code",
   "execution_count": 16,
   "metadata": {},
   "outputs": [],
   "source": [
    "# si es mayor se hace un resize de la imagen encubridora\n",
    "imagen_encubridora = imagen_encubridora.resize(\n",
    "    (imagen_a_ocultar.width, imagen_a_ocultar.height))"
   ]
  },
  {
   "cell_type": "code",
   "execution_count": 17,
   "metadata": {},
   "outputs": [],
   "source": [
    "diferencia, imagen_menor_correlacion = acm(imagen_a_ocultar)"
   ]
  },
  {
   "cell_type": "code",
   "execution_count": 18,
   "metadata": {},
   "outputs": [],
   "source": [
    "# aqui se agrega la informacion a la imagen\n",
    "imagen_menor_correlacion = inc(imagen_menor_correlacion, diferencia)\n"
   ]
  },
  {
   "cell_type": "code",
   "execution_count": 19,
   "metadata": {},
   "outputs": [
    {
     "name": "stdout",
     "output_type": "stream",
     "text": [
      "pixel 0b0\n",
      "pixel 0b1000000\n"
     ]
    }
   ],
   "source": [
    "sep.obtener_bits(imagen_menor_correlacion)"
   ]
  },
  {
   "cell_type": "code",
   "execution_count": 20,
   "metadata": {},
   "outputs": [],
   "source": [
    "# aqui se hace el mapeo de la imagen\n",
    "imagen_menor_correlacion = m(imagen_menor_correlacion, s_boxes.rijndael_s_box)"
   ]
  },
  {
   "cell_type": "code",
   "execution_count": 21,
   "metadata": {},
   "outputs": [],
   "source": [
    "# mapeo doble\n",
    "imagen_menor_correlacion = m(imagen_menor_correlacion, s_boxes.aboytes_s_box)\n",
    "imagen_menor_correlacion.show()\n"
   ]
  },
  {
   "cell_type": "code",
   "execution_count": 22,
   "metadata": {},
   "outputs": [],
   "source": [
    "# incrustacion de la imagen\n",
    "imagen_menor_correlacion = ii(imagen_encubridora, imagen_menor_correlacion)"
   ]
  },
  {
   "cell_type": "code",
   "execution_count": 23,
   "metadata": {},
   "outputs": [],
   "source": [
    "imagen_menor_correlacion.show()"
   ]
  },
  {
   "cell_type": "code",
   "execution_count": 24,
   "metadata": {},
   "outputs": [],
   "source": [
    "# se obtiene la imagen que cubrimos\n",
    "imagen_obtenida  = sep.separar_imagen(imagen_menor_correlacion)\n",
    "imagen_obtenida.show()\n",
    "imagen_prueba = imagen_obtenida.copy()"
   ]
  },
  {
   "cell_type": "code",
   "execution_count": 25,
   "metadata": {},
   "outputs": [],
   "source": [
    "# se desmapea\n",
    "imagen_prueba = m(imagen_prueba, s_boxes.aboytes_inversa_s_box)"
   ]
  },
  {
   "cell_type": "code",
   "execution_count": 26,
   "metadata": {},
   "outputs": [],
   "source": [
    "imagen_prueba = m(imagen_prueba, s_boxes.rijndael_inversa_s_box)"
   ]
  },
  {
   "cell_type": "code",
   "execution_count": 27,
   "metadata": {},
   "outputs": [
    {
     "name": "stdout",
     "output_type": "stream",
     "text": [
      "pixel 0b1010101\n",
      "pixel 0b1011001\n"
     ]
    }
   ],
   "source": [
    "sep.obtener_bits(imagen_prueba)"
   ]
  }
 ],
 "metadata": {
  "kernelspec": {
   "display_name": "Python 3",
   "language": "python",
   "name": "python3"
  },
  "language_info": {
   "codemirror_mode": {
    "name": "ipython",
    "version": 3
   },
   "file_extension": ".py",
   "mimetype": "text/x-python",
   "name": "python",
   "nbconvert_exporter": "python",
   "pygments_lexer": "ipython3",
   "version": "3.11.1"
  },
  "orig_nbformat": 4
 },
 "nbformat": 4,
 "nbformat_minor": 2
}
