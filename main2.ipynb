{
 "cells": [
  {
   "cell_type": "code",
   "execution_count": 1,
   "metadata": {},
   "outputs": [],
   "source": [
    "from arnold_cat_map import arnold_cat_map_iterador\n",
    "from PIL.Image import open as load_pic\n",
    "import separacion as sep\n",
    "from map_sbox import mapeo_coordenadas\n",
    "import s_boxes"
   ]
  },
  {
   "cell_type": "code",
   "execution_count": 2,
   "metadata": {},
   "outputs": [],
   "source": [
    "imagen = load_pic('C:/Users/ouarit/Documents/esteganografia/imagen_oculta.png')"
   ]
  },
  {
   "cell_type": "code",
   "execution_count": 3,
   "metadata": {},
   "outputs": [],
   "source": [
    "# se obtiene la imagen que cubrimos\n",
    "imagen_obtenida  = sep.separar_imagen(imagen)\n",
    "imagen_prueba = imagen_obtenida.copy()"
   ]
  },
  {
   "cell_type": "code",
   "execution_count": 4,
   "metadata": {},
   "outputs": [],
   "source": [
    "imagen_prueba = mapeo_coordenadas(imagen_prueba, s_boxes.rijndael_inversa_s_box)"
   ]
  },
  {
   "cell_type": "code",
   "execution_count": 5,
   "metadata": {},
   "outputs": [
    {
     "name": "stdout",
     "output_type": "stream",
     "text": [
      "000010\n",
      "010010\n"
     ]
    }
   ],
   "source": [
    "diferencia_obtenida = sep.obtener_bits(imagen_prueba)"
   ]
  },
  {
   "cell_type": "code",
   "execution_count": 6,
   "metadata": {},
   "outputs": [
    {
     "name": "stdout",
     "output_type": "stream",
     "text": [
      "146\n"
     ]
    }
   ],
   "source": [
    "print(diferencia_obtenida)"
   ]
  },
  {
   "cell_type": "code",
   "execution_count": 7,
   "metadata": {},
   "outputs": [],
   "source": [
    "imagen_prueba = arnold_cat_map_iterador(imagen_prueba, diferencia_obtenida)\n",
    "imagen_prueba.show()\n",
    "# guardamos \n",
    "imagen_prueba.save('C:/Users/ouarit/Documents/esteganografia/imagen_obtenida.png')"
   ]
  }
 ],
 "metadata": {
  "kernelspec": {
   "display_name": "Python 3",
   "language": "python",
   "name": "python3"
  },
  "language_info": {
   "codemirror_mode": {
    "name": "ipython",
    "version": 3
   },
   "file_extension": ".py",
   "mimetype": "text/x-python",
   "name": "python",
   "nbconvert_exporter": "python",
   "pygments_lexer": "ipython3",
   "version": "3.11.1"
  },
  "orig_nbformat": 4
 },
 "nbformat": 4,
 "nbformat_minor": 2
}
